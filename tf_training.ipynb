{
 "cells": [
  {
   "cell_type": "code",
   "execution_count": 299,
   "id": "d7adcf1d",
   "metadata": {},
   "outputs": [],
   "source": [
    "# Montar/treinar o modelo e verificar a precisão"
   ]
  },
  {
   "cell_type": "code",
   "execution_count": 300,
   "id": "53f50d7a",
   "metadata": {},
   "outputs": [],
   "source": [
    "import tensorflow as tf\n",
    "import keras\n",
    "import pandas as pd\n",
    "import numpy as np\n",
    "from sklearn.model_selection import train_test_split\n",
    "from sklearn.preprocessing import MinMaxScaler\n",
    "from category_encoders import OneHotEncoder\n",
    "from datetime import datetime\n"
   ]
  },
  {
   "cell_type": "code",
   "execution_count": 326,
   "id": "f3ac5ebf",
   "metadata": {},
   "outputs": [
    {
     "data": {
      "text/html": [
       "<div>\n",
       "<style scoped>\n",
       "    .dataframe tbody tr th:only-of-type {\n",
       "        vertical-align: middle;\n",
       "    }\n",
       "\n",
       "    .dataframe tbody tr th {\n",
       "        vertical-align: top;\n",
       "    }\n",
       "\n",
       "    .dataframe thead th {\n",
       "        text-align: right;\n",
       "    }\n",
       "</style>\n",
       "<table border=\"1\" class=\"dataframe\">\n",
       "  <thead>\n",
       "    <tr style=\"text-align: right;\">\n",
       "      <th></th>\n",
       "      <th>data_ocorrencia</th>\n",
       "      <th>hora_ocorrencia</th>\n",
       "      <th>regiao_administrativa</th>\n",
       "      <th>tipo_crime</th>\n",
       "      <th>sexo_vitima</th>\n",
       "      <th>idade_vitima</th>\n",
       "      <th>risco</th>\n",
       "    </tr>\n",
       "  </thead>\n",
       "  <tbody>\n",
       "    <tr>\n",
       "      <th>0</th>\n",
       "      <td>2023-01-14</td>\n",
       "      <td>21:00</td>\n",
       "      <td>0</td>\n",
       "      <td>0</td>\n",
       "      <td>2</td>\n",
       "      <td>19</td>\n",
       "      <td>5.241323e-08</td>\n",
       "    </tr>\n",
       "    <tr>\n",
       "      <th>1</th>\n",
       "      <td>2023-01-20</td>\n",
       "      <td>02:00</td>\n",
       "      <td>0</td>\n",
       "      <td>0</td>\n",
       "      <td>2</td>\n",
       "      <td>17</td>\n",
       "      <td>5.241323e-08</td>\n",
       "    </tr>\n",
       "    <tr>\n",
       "      <th>2</th>\n",
       "      <td>2023-01-24</td>\n",
       "      <td>20:15</td>\n",
       "      <td>0</td>\n",
       "      <td>0</td>\n",
       "      <td>2</td>\n",
       "      <td>30</td>\n",
       "      <td>5.241323e-08</td>\n",
       "    </tr>\n",
       "    <tr>\n",
       "      <th>3</th>\n",
       "      <td>2023-01-03</td>\n",
       "      <td>09:30</td>\n",
       "      <td>0</td>\n",
       "      <td>2</td>\n",
       "      <td>1</td>\n",
       "      <td>41</td>\n",
       "      <td>5.241323e-08</td>\n",
       "    </tr>\n",
       "    <tr>\n",
       "      <th>4</th>\n",
       "      <td>2023-01-18</td>\n",
       "      <td>20:00</td>\n",
       "      <td>0</td>\n",
       "      <td>2</td>\n",
       "      <td>1</td>\n",
       "      <td>54</td>\n",
       "      <td>5.241323e-08</td>\n",
       "    </tr>\n",
       "  </tbody>\n",
       "</table>\n",
       "</div>"
      ],
      "text/plain": [
       "  data_ocorrencia hora_ocorrencia  regiao_administrativa  tipo_crime  \\\n",
       "0      2023-01-14           21:00                      0           0   \n",
       "1      2023-01-20           02:00                      0           0   \n",
       "2      2023-01-24           20:15                      0           0   \n",
       "3      2023-01-03           09:30                      0           2   \n",
       "4      2023-01-18           20:00                      0           2   \n",
       "\n",
       "   sexo_vitima  idade_vitima         risco  \n",
       "0            2            19  5.241323e-08  \n",
       "1            2            17  5.241323e-08  \n",
       "2            2            30  5.241323e-08  \n",
       "3            1            41  5.241323e-08  \n",
       "4            1            54  5.241323e-08  "
      ]
     },
     "execution_count": 326,
     "metadata": {},
     "output_type": "execute_result"
    }
   ],
   "source": [
    "df = pd.read_csv(\"./data-fict/Encoded_Data_Ocorr.csv\")\n",
    "df.head()"
   ]
  },
  {
   "cell_type": "code",
   "execution_count": 327,
   "id": "e8a2808d",
   "metadata": {},
   "outputs": [],
   "source": [
    "## Separação da variável dependente\n",
    "\n",
    "X = df.drop(columns=[\"risco\", \"tipo_crime\"])\n",
    "y = df[\"risco\"]"
   ]
  },
  {
   "cell_type": "code",
   "execution_count": 328,
   "id": "45d577c1",
   "metadata": {},
   "outputs": [
    {
     "data": {
      "text/plain": [
       "0    5.241323e-08\n",
       "1    5.241323e-08\n",
       "2    5.241323e-08\n",
       "3    5.241323e-08\n",
       "4    5.241323e-08\n",
       "Name: risco, dtype: float64"
      ]
     },
     "execution_count": 328,
     "metadata": {},
     "output_type": "execute_result"
    }
   ],
   "source": [
    "y.head()"
   ]
  },
  {
   "cell_type": "code",
   "execution_count": 329,
   "id": "cd151422",
   "metadata": {},
   "outputs": [],
   "source": [
    "# Imputação dos dados\n",
    "## Isso aqui transforma os valores entre 0 e 1 \n",
    "\n",
    "scaler = MinMaxScaler()\n",
    "Y = scaler.fit_transform(y.values.reshape(-1, 1))\n",
    "Y = scaler.transform(y.values.reshape(-1, 1))\n",
    "\n",
    "Y = pd.DataFrame(Y, columns=[\"risco\"])\n",
    "Y.to_csv(\"./a.csv\", index=True)"
   ]
  },
  {
   "cell_type": "code",
   "execution_count": 334,
   "id": "7c1658fc",
   "metadata": {},
   "outputs": [
    {
     "name": "stdout",
     "output_type": "stream",
     "text": [
      "[[0.00132747]\n",
      " [0.00132747]\n",
      " [0.00132747]\n",
      " ...\n",
      " [0.0111592 ]\n",
      " [0.0111592 ]\n",
      " [0.0111592 ]]\n"
     ]
    }
   ],
   "source": [
    "print(Y)"
   ]
  },
  {
   "cell_type": "code",
   "execution_count": 335,
   "id": "b9f589ae",
   "metadata": {},
   "outputs": [],
   "source": [
    "## Isso aqui transforma os valores entre 0 e 1 \n",
    "scaler = MinMaxScaler()\n",
    "Y = scaler.fit_transform(y.values.reshape(-1, 1))\n",
    "Y = scaler.transform(y.values.reshape(-1, 1))\n",
    "\n",
    "def classifica_valor(x):\n",
    "    if x > 0.8: \n",
    "        return 5\n",
    "    elif x > 0.6:\n",
    "        return 4\n",
    "    elif x > 0.4:\n",
    "        return 3\n",
    "    elif x > 0.2:\n",
    "        return 2\n",
    "    elif x >= 0.0:\n",
    "        return 1\n",
    "\n",
    "Y = pd.DataFrame(Y, columns=[\"risco\"])\n",
    "Y['risco'] = Y['risco'].apply(classifica_valor)"
   ]
  },
  {
   "cell_type": "code",
   "execution_count": 336,
   "id": "2cfd99d3",
   "metadata": {},
   "outputs": [
    {
     "data": {
      "text/html": [
       "<div>\n",
       "<style scoped>\n",
       "    .dataframe tbody tr th:only-of-type {\n",
       "        vertical-align: middle;\n",
       "    }\n",
       "\n",
       "    .dataframe tbody tr th {\n",
       "        vertical-align: top;\n",
       "    }\n",
       "\n",
       "    .dataframe thead th {\n",
       "        text-align: right;\n",
       "    }\n",
       "</style>\n",
       "<table border=\"1\" class=\"dataframe\">\n",
       "  <thead>\n",
       "    <tr style=\"text-align: right;\">\n",
       "      <th></th>\n",
       "      <th>data_ocorrencia</th>\n",
       "      <th>hora_ocorrencia</th>\n",
       "      <th>regiao_administrativa</th>\n",
       "      <th>sexo_vitima</th>\n",
       "      <th>idade_vitima</th>\n",
       "    </tr>\n",
       "  </thead>\n",
       "  <tbody>\n",
       "    <tr>\n",
       "      <th>0</th>\n",
       "      <td>2023-01-14</td>\n",
       "      <td>1260</td>\n",
       "      <td>0</td>\n",
       "      <td>2</td>\n",
       "      <td>19</td>\n",
       "    </tr>\n",
       "    <tr>\n",
       "      <th>1</th>\n",
       "      <td>2023-01-20</td>\n",
       "      <td>120</td>\n",
       "      <td>0</td>\n",
       "      <td>2</td>\n",
       "      <td>17</td>\n",
       "    </tr>\n",
       "    <tr>\n",
       "      <th>2</th>\n",
       "      <td>2023-01-24</td>\n",
       "      <td>1215</td>\n",
       "      <td>0</td>\n",
       "      <td>2</td>\n",
       "      <td>30</td>\n",
       "    </tr>\n",
       "    <tr>\n",
       "      <th>3</th>\n",
       "      <td>2023-01-03</td>\n",
       "      <td>570</td>\n",
       "      <td>0</td>\n",
       "      <td>1</td>\n",
       "      <td>41</td>\n",
       "    </tr>\n",
       "    <tr>\n",
       "      <th>4</th>\n",
       "      <td>2023-01-18</td>\n",
       "      <td>1200</td>\n",
       "      <td>0</td>\n",
       "      <td>1</td>\n",
       "      <td>54</td>\n",
       "    </tr>\n",
       "  </tbody>\n",
       "</table>\n",
       "</div>"
      ],
      "text/plain": [
       "  data_ocorrencia  hora_ocorrencia  regiao_administrativa  sexo_vitima  \\\n",
       "0      2023-01-14             1260                      0            2   \n",
       "1      2023-01-20              120                      0            2   \n",
       "2      2023-01-24             1215                      0            2   \n",
       "3      2023-01-03              570                      0            1   \n",
       "4      2023-01-18             1200                      0            1   \n",
       "\n",
       "   idade_vitima  \n",
       "0            19  \n",
       "1            17  \n",
       "2            30  \n",
       "3            41  \n",
       "4            54  "
      ]
     },
     "execution_count": 336,
     "metadata": {},
     "output_type": "execute_result"
    }
   ],
   "source": [
    "# Conversão da hora string para minutos\n",
    "\n",
    "def tempo_para_minutos(tempo):\n",
    "    # Divide a string 'hh:mm' em horas e minutos\n",
    "    horas, minutos = map(int, tempo.split(':'))\n",
    "    \n",
    "    # Converte tudo para minutos\n",
    "    total_minutos = horas * 60 + minutos\n",
    "    return total_minutos\n",
    "\n",
    "X[\"hora_ocorrencia\"] = X[\"hora_ocorrencia\"].apply(tempo_para_minutos)\n",
    "\n",
    "X.head()"
   ]
  },
  {
   "cell_type": "code",
   "execution_count": 337,
   "id": "a6a2255f",
   "metadata": {},
   "outputs": [
    {
     "data": {
      "text/html": [
       "<div>\n",
       "<style scoped>\n",
       "    .dataframe tbody tr th:only-of-type {\n",
       "        vertical-align: middle;\n",
       "    }\n",
       "\n",
       "    .dataframe tbody tr th {\n",
       "        vertical-align: top;\n",
       "    }\n",
       "\n",
       "    .dataframe thead th {\n",
       "        text-align: right;\n",
       "    }\n",
       "</style>\n",
       "<table border=\"1\" class=\"dataframe\">\n",
       "  <thead>\n",
       "    <tr style=\"text-align: right;\">\n",
       "      <th></th>\n",
       "      <th>data_ocorrencia</th>\n",
       "      <th>hora_ocorrencia</th>\n",
       "      <th>regiao_administrativa</th>\n",
       "      <th>sexo_vitima</th>\n",
       "      <th>idade_vitima</th>\n",
       "    </tr>\n",
       "  </thead>\n",
       "  <tbody>\n",
       "    <tr>\n",
       "      <th>0</th>\n",
       "      <td>19371</td>\n",
       "      <td>1260</td>\n",
       "      <td>0</td>\n",
       "      <td>2</td>\n",
       "      <td>19</td>\n",
       "    </tr>\n",
       "    <tr>\n",
       "      <th>1</th>\n",
       "      <td>19377</td>\n",
       "      <td>120</td>\n",
       "      <td>0</td>\n",
       "      <td>2</td>\n",
       "      <td>17</td>\n",
       "    </tr>\n",
       "    <tr>\n",
       "      <th>2</th>\n",
       "      <td>19381</td>\n",
       "      <td>1215</td>\n",
       "      <td>0</td>\n",
       "      <td>2</td>\n",
       "      <td>30</td>\n",
       "    </tr>\n",
       "    <tr>\n",
       "      <th>3</th>\n",
       "      <td>19360</td>\n",
       "      <td>570</td>\n",
       "      <td>0</td>\n",
       "      <td>1</td>\n",
       "      <td>41</td>\n",
       "    </tr>\n",
       "    <tr>\n",
       "      <th>4</th>\n",
       "      <td>19375</td>\n",
       "      <td>1200</td>\n",
       "      <td>0</td>\n",
       "      <td>1</td>\n",
       "      <td>54</td>\n",
       "    </tr>\n",
       "  </tbody>\n",
       "</table>\n",
       "</div>"
      ],
      "text/plain": [
       "   data_ocorrencia  hora_ocorrencia  regiao_administrativa  sexo_vitima  \\\n",
       "0            19371             1260                      0            2   \n",
       "1            19377              120                      0            2   \n",
       "2            19381             1215                      0            2   \n",
       "3            19360              570                      0            1   \n",
       "4            19375             1200                      0            1   \n",
       "\n",
       "   idade_vitima  \n",
       "0            19  \n",
       "1            17  \n",
       "2            30  \n",
       "3            41  \n",
       "4            54  "
      ]
     },
     "execution_count": 337,
     "metadata": {},
     "output_type": "execute_result"
    }
   ],
   "source": [
    "def data_para_dias(data_str):\n",
    "    data = datetime.strptime(data_str, r'%Y-%m-%d')\n",
    "    referencia = datetime(1970, 1, 1)\n",
    "    return (data - referencia).days\n",
    "\n",
    "X[\"data_ocorrencia\"] = X[\"data_ocorrencia\"].apply(data_para_dias)\n",
    "\n",
    "X.head()"
   ]
  },
  {
   "cell_type": "code",
   "execution_count": 338,
   "id": "664a4adc",
   "metadata": {},
   "outputs": [],
   "source": [
    "# Isso aqui divide o treino do teste com uma proporção de 0.5 \n",
    "## Se esse valor ficar muito grande, a eficiência pode ser reduzida porque o modelo começa a decorar os dados\n",
    "\n",
    "X_train, X_test, y_train, y_test = train_test_split(X, Y, test_size=0.5, random_state=42)"
   ]
  },
  {
   "cell_type": "code",
   "execution_count": 339,
   "id": "395b6134",
   "metadata": {},
   "outputs": [],
   "source": [
    "# Imputação dos dados\n",
    "## Isso aqui transforma os valores entre 0 e 1 \n",
    "\n",
    "scaler = MinMaxScaler()\n",
    "X_train_scaled = scaler.fit_transform(X_train)\n",
    "X_test_scaled = scaler.transform(X_test)"
   ]
  },
  {
   "cell_type": "code",
   "execution_count": 340,
   "id": "abdcd169",
   "metadata": {},
   "outputs": [
    {
     "name": "stdout",
     "output_type": "stream",
     "text": [
      "[[0.9        0.35789474 0.28125    0.         0.43103448]\n",
      " [0.3        0.77894737 0.90625    1.         0.65517241]\n",
      " [0.         0.37894737 0.53125    1.         0.56896552]\n",
      " ...\n",
      " [0.6        0.6        0.5        1.         0.10344828]\n",
      " [0.56666667 0.18947368 0.03125    0.         0.37931034]\n",
      " [1.         0.16842105 0.625      0.         0.5       ]]\n"
     ]
    }
   ],
   "source": [
    "print(X_train_scaled)"
   ]
  },
  {
   "cell_type": "code",
   "execution_count": 341,
   "id": "663d19fc",
   "metadata": {},
   "outputs": [
    {
     "data": {
      "text/html": [
       "<pre style=\"white-space:pre;overflow-x:auto;line-height:normal;font-family:Menlo,'DejaVu Sans Mono',consolas,'Courier New',monospace\"><span style=\"font-weight: bold\">Model: \"functional_29\"</span>\n",
       "</pre>\n"
      ],
      "text/plain": [
       "\u001b[1mModel: \"functional_29\"\u001b[0m\n"
      ]
     },
     "metadata": {},
     "output_type": "display_data"
    },
    {
     "data": {
      "text/html": [
       "<pre style=\"white-space:pre;overflow-x:auto;line-height:normal;font-family:Menlo,'DejaVu Sans Mono',consolas,'Courier New',monospace\">┏━━━━━━━━━━━━━━━━━━━━━━━━━━━━━━━━━┳━━━━━━━━━━━━━━━━━━━━━━━━┳━━━━━━━━━━━━━━━┓\n",
       "┃<span style=\"font-weight: bold\"> Layer (type)                    </span>┃<span style=\"font-weight: bold\"> Output Shape           </span>┃<span style=\"font-weight: bold\">       Param # </span>┃\n",
       "┡━━━━━━━━━━━━━━━━━━━━━━━━━━━━━━━━━╇━━━━━━━━━━━━━━━━━━━━━━━━╇━━━━━━━━━━━━━━━┩\n",
       "│ input_layer_25 (<span style=\"color: #0087ff; text-decoration-color: #0087ff\">InputLayer</span>)     │ (<span style=\"color: #00d7ff; text-decoration-color: #00d7ff\">None</span>, <span style=\"color: #00af00; text-decoration-color: #00af00\">5</span>)              │             <span style=\"color: #00af00; text-decoration-color: #00af00\">0</span> │\n",
       "├─────────────────────────────────┼────────────────────────┼───────────────┤\n",
       "│ dense_77 (<span style=\"color: #0087ff; text-decoration-color: #0087ff\">Dense</span>)                │ (<span style=\"color: #00d7ff; text-decoration-color: #00d7ff\">None</span>, <span style=\"color: #00af00; text-decoration-color: #00af00\">50</span>)             │           <span style=\"color: #00af00; text-decoration-color: #00af00\">300</span> │\n",
       "├─────────────────────────────────┼────────────────────────┼───────────────┤\n",
       "│ dropout_27 (<span style=\"color: #0087ff; text-decoration-color: #0087ff\">Dropout</span>)            │ (<span style=\"color: #00d7ff; text-decoration-color: #00d7ff\">None</span>, <span style=\"color: #00af00; text-decoration-color: #00af00\">50</span>)             │             <span style=\"color: #00af00; text-decoration-color: #00af00\">0</span> │\n",
       "├─────────────────────────────────┼────────────────────────┼───────────────┤\n",
       "│ dense_78 (<span style=\"color: #0087ff; text-decoration-color: #0087ff\">Dense</span>)                │ (<span style=\"color: #00d7ff; text-decoration-color: #00d7ff\">None</span>, <span style=\"color: #00af00; text-decoration-color: #00af00\">50</span>)             │         <span style=\"color: #00af00; text-decoration-color: #00af00\">2,550</span> │\n",
       "├─────────────────────────────────┼────────────────────────┼───────────────┤\n",
       "│ dropout_28 (<span style=\"color: #0087ff; text-decoration-color: #0087ff\">Dropout</span>)            │ (<span style=\"color: #00d7ff; text-decoration-color: #00d7ff\">None</span>, <span style=\"color: #00af00; text-decoration-color: #00af00\">50</span>)             │             <span style=\"color: #00af00; text-decoration-color: #00af00\">0</span> │\n",
       "├─────────────────────────────────┼────────────────────────┼───────────────┤\n",
       "│ dense_79 (<span style=\"color: #0087ff; text-decoration-color: #0087ff\">Dense</span>)                │ (<span style=\"color: #00d7ff; text-decoration-color: #00d7ff\">None</span>, <span style=\"color: #00af00; text-decoration-color: #00af00\">50</span>)             │         <span style=\"color: #00af00; text-decoration-color: #00af00\">2,550</span> │\n",
       "├─────────────────────────────────┼────────────────────────┼───────────────┤\n",
       "│ dense_80 (<span style=\"color: #0087ff; text-decoration-color: #0087ff\">Dense</span>)                │ (<span style=\"color: #00d7ff; text-decoration-color: #00d7ff\">None</span>, <span style=\"color: #00af00; text-decoration-color: #00af00\">5218</span>)           │       <span style=\"color: #00af00; text-decoration-color: #00af00\">266,118</span> │\n",
       "└─────────────────────────────────┴────────────────────────┴───────────────┘\n",
       "</pre>\n"
      ],
      "text/plain": [
       "┏━━━━━━━━━━━━━━━━━━━━━━━━━━━━━━━━━┳━━━━━━━━━━━━━━━━━━━━━━━━┳━━━━━━━━━━━━━━━┓\n",
       "┃\u001b[1m \u001b[0m\u001b[1mLayer (type)                   \u001b[0m\u001b[1m \u001b[0m┃\u001b[1m \u001b[0m\u001b[1mOutput Shape          \u001b[0m\u001b[1m \u001b[0m┃\u001b[1m \u001b[0m\u001b[1m      Param #\u001b[0m\u001b[1m \u001b[0m┃\n",
       "┡━━━━━━━━━━━━━━━━━━━━━━━━━━━━━━━━━╇━━━━━━━━━━━━━━━━━━━━━━━━╇━━━━━━━━━━━━━━━┩\n",
       "│ input_layer_25 (\u001b[38;5;33mInputLayer\u001b[0m)     │ (\u001b[38;5;45mNone\u001b[0m, \u001b[38;5;34m5\u001b[0m)              │             \u001b[38;5;34m0\u001b[0m │\n",
       "├─────────────────────────────────┼────────────────────────┼───────────────┤\n",
       "│ dense_77 (\u001b[38;5;33mDense\u001b[0m)                │ (\u001b[38;5;45mNone\u001b[0m, \u001b[38;5;34m50\u001b[0m)             │           \u001b[38;5;34m300\u001b[0m │\n",
       "├─────────────────────────────────┼────────────────────────┼───────────────┤\n",
       "│ dropout_27 (\u001b[38;5;33mDropout\u001b[0m)            │ (\u001b[38;5;45mNone\u001b[0m, \u001b[38;5;34m50\u001b[0m)             │             \u001b[38;5;34m0\u001b[0m │\n",
       "├─────────────────────────────────┼────────────────────────┼───────────────┤\n",
       "│ dense_78 (\u001b[38;5;33mDense\u001b[0m)                │ (\u001b[38;5;45mNone\u001b[0m, \u001b[38;5;34m50\u001b[0m)             │         \u001b[38;5;34m2,550\u001b[0m │\n",
       "├─────────────────────────────────┼────────────────────────┼───────────────┤\n",
       "│ dropout_28 (\u001b[38;5;33mDropout\u001b[0m)            │ (\u001b[38;5;45mNone\u001b[0m, \u001b[38;5;34m50\u001b[0m)             │             \u001b[38;5;34m0\u001b[0m │\n",
       "├─────────────────────────────────┼────────────────────────┼───────────────┤\n",
       "│ dense_79 (\u001b[38;5;33mDense\u001b[0m)                │ (\u001b[38;5;45mNone\u001b[0m, \u001b[38;5;34m50\u001b[0m)             │         \u001b[38;5;34m2,550\u001b[0m │\n",
       "├─────────────────────────────────┼────────────────────────┼───────────────┤\n",
       "│ dense_80 (\u001b[38;5;33mDense\u001b[0m)                │ (\u001b[38;5;45mNone\u001b[0m, \u001b[38;5;34m5218\u001b[0m)           │       \u001b[38;5;34m266,118\u001b[0m │\n",
       "└─────────────────────────────────┴────────────────────────┴───────────────┘\n"
      ]
     },
     "metadata": {},
     "output_type": "display_data"
    },
    {
     "data": {
      "text/html": [
       "<pre style=\"white-space:pre;overflow-x:auto;line-height:normal;font-family:Menlo,'DejaVu Sans Mono',consolas,'Courier New',monospace\"><span style=\"font-weight: bold\"> Total params: </span><span style=\"color: #00af00; text-decoration-color: #00af00\">271,518</span> (1.04 MB)\n",
       "</pre>\n"
      ],
      "text/plain": [
       "\u001b[1m Total params: \u001b[0m\u001b[38;5;34m271,518\u001b[0m (1.04 MB)\n"
      ]
     },
     "metadata": {},
     "output_type": "display_data"
    },
    {
     "data": {
      "text/html": [
       "<pre style=\"white-space:pre;overflow-x:auto;line-height:normal;font-family:Menlo,'DejaVu Sans Mono',consolas,'Courier New',monospace\"><span style=\"font-weight: bold\"> Trainable params: </span><span style=\"color: #00af00; text-decoration-color: #00af00\">271,518</span> (1.04 MB)\n",
       "</pre>\n"
      ],
      "text/plain": [
       "\u001b[1m Trainable params: \u001b[0m\u001b[38;5;34m271,518\u001b[0m (1.04 MB)\n"
      ]
     },
     "metadata": {},
     "output_type": "display_data"
    },
    {
     "data": {
      "text/html": [
       "<pre style=\"white-space:pre;overflow-x:auto;line-height:normal;font-family:Menlo,'DejaVu Sans Mono',consolas,'Courier New',monospace\"><span style=\"font-weight: bold\"> Non-trainable params: </span><span style=\"color: #00af00; text-decoration-color: #00af00\">0</span> (0.00 B)\n",
       "</pre>\n"
      ],
      "text/plain": [
       "\u001b[1m Non-trainable params: \u001b[0m\u001b[38;5;34m0\u001b[0m (0.00 B)\n"
      ]
     },
     "metadata": {},
     "output_type": "display_data"
    }
   ],
   "source": [
    "# tf.random.set_seed(2)\n",
    "# Entrada = Bairro, Trimestre (Média), Tipo de crime\n",
    "#\n",
    "\n",
    "# Construção das camadas\n",
    "inp = keras.layers.Input((X_train_scaled.shape[1], ))\n",
    "\n",
    "hid1 = keras.layers.Dense(50, activation=\"relu\")(inp)\n",
    "drop1 = keras.layers.Dropout(0.4)(hid1)\n",
    "hid2 = keras.layers.Dense(50, activation=\"relu\")(drop1)\n",
    "drop2 = keras.layers.Dropout(0.4)(hid2)\n",
    "hid3 = keras.layers.Dense(50, activation=\"relu\")(drop2)\n",
    "\n",
    "out_soft = keras.layers.Dense(len(y_train), activation=\"softmax\")(hid3)\n",
    "# out_sig = keras.layers.Dense(units=1, activation=\"sigmoid\")(drop)\n",
    "\n",
    "\n",
    "# model_sig = keras.Model(inp, out_sig)\n",
    "model_soft = keras.Model(inp, out_soft)\n",
    "\n",
    "# model_sig.compile(optimizer='adam',\n",
    "#               loss='msle',\n",
    "#               metrics=['accuracy'])\n",
    "model_soft.compile(optimizer='adam',\n",
    "                   loss=\"sparse_categorical_crossentropy\",\n",
    "                   metrics=[\"accuracy\"])\n",
    "\n",
    "# model_sig.summary()\n",
    "model_soft.summary()"
   ]
  },
  {
   "cell_type": "code",
   "execution_count": 342,
   "id": "8c85a545",
   "metadata": {},
   "outputs": [],
   "source": [
    "es = keras.callbacks.EarlyStopping(\n",
    "    monitor=\"val_loss\", min_delta=0, patience=10, mode=\"min\", restore_best_weights=True,\n",
    ")"
   ]
  },
  {
   "cell_type": "code",
   "execution_count": 343,
   "id": "959ff91b",
   "metadata": {},
   "outputs": [
    {
     "name": "stdout",
     "output_type": "stream",
     "text": [
      "Epoch 1/30\n",
      "\u001b[1m164/164\u001b[0m \u001b[32m━━━━━━━━━━━━━━━━━━━━\u001b[0m\u001b[37m\u001b[0m \u001b[1m2s\u001b[0m 6ms/step - accuracy: 0.6114 - loss: 5.1593 - val_accuracy: 0.7788 - val_loss: 0.7086\n",
      "Epoch 2/30\n",
      "\u001b[1m164/164\u001b[0m \u001b[32m━━━━━━━━━━━━━━━━━━━━\u001b[0m\u001b[37m\u001b[0m \u001b[1m1s\u001b[0m 6ms/step - accuracy: 0.7800 - loss: 0.7059 - val_accuracy: 0.7788 - val_loss: 0.6552\n",
      "Epoch 3/30\n",
      "\u001b[1m164/164\u001b[0m \u001b[32m━━━━━━━━━━━━━━━━━━━━\u001b[0m\u001b[37m\u001b[0m \u001b[1m1s\u001b[0m 5ms/step - accuracy: 0.7788 - loss: 0.6529 - val_accuracy: 0.7764 - val_loss: 0.6154\n",
      "Epoch 4/30\n",
      "\u001b[1m164/164\u001b[0m \u001b[32m━━━━━━━━━━━━━━━━━━━━\u001b[0m\u001b[37m\u001b[0m \u001b[1m1s\u001b[0m 6ms/step - accuracy: 0.7665 - loss: 0.6095 - val_accuracy: 0.7033 - val_loss: 0.5793\n",
      "Epoch 5/30\n",
      "\u001b[1m164/164\u001b[0m \u001b[32m━━━━━━━━━━━━━━━━━━━━\u001b[0m\u001b[37m\u001b[0m \u001b[1m1s\u001b[0m 5ms/step - accuracy: 0.7613 - loss: 0.5741 - val_accuracy: 0.7202 - val_loss: 0.5503\n",
      "Epoch 6/30\n",
      "\u001b[1m164/164\u001b[0m \u001b[32m━━━━━━━━━━━━━━━━━━━━\u001b[0m\u001b[37m\u001b[0m \u001b[1m1s\u001b[0m 5ms/step - accuracy: 0.7635 - loss: 0.5414 - val_accuracy: 0.7788 - val_loss: 0.5331\n",
      "Epoch 7/30\n",
      "\u001b[1m164/164\u001b[0m \u001b[32m━━━━━━━━━━━━━━━━━━━━\u001b[0m\u001b[37m\u001b[0m \u001b[1m1s\u001b[0m 6ms/step - accuracy: 0.7559 - loss: 0.5296 - val_accuracy: 0.7788 - val_loss: 0.5164\n",
      "Epoch 8/30\n",
      "\u001b[1m164/164\u001b[0m \u001b[32m━━━━━━━━━━━━━━━━━━━━\u001b[0m\u001b[37m\u001b[0m \u001b[1m1s\u001b[0m 6ms/step - accuracy: 0.7591 - loss: 0.5105 - val_accuracy: 0.7792 - val_loss: 0.5020\n",
      "Epoch 9/30\n",
      "\u001b[1m164/164\u001b[0m \u001b[32m━━━━━━━━━━━━━━━━━━━━\u001b[0m\u001b[37m\u001b[0m \u001b[1m1s\u001b[0m 5ms/step - accuracy: 0.7675 - loss: 0.5025 - val_accuracy: 0.8147 - val_loss: 0.4814\n",
      "Epoch 10/30\n",
      "\u001b[1m164/164\u001b[0m \u001b[32m━━━━━━━━━━━━━━━━━━━━\u001b[0m\u001b[37m\u001b[0m \u001b[1m1s\u001b[0m 5ms/step - accuracy: 0.7723 - loss: 0.4754 - val_accuracy: 0.7913 - val_loss: 0.4459\n",
      "Epoch 11/30\n",
      "\u001b[1m164/164\u001b[0m \u001b[32m━━━━━━━━━━━━━━━━━━━━\u001b[0m\u001b[37m\u001b[0m \u001b[1m1s\u001b[0m 5ms/step - accuracy: 0.7892 - loss: 0.4454 - val_accuracy: 0.9143 - val_loss: 0.3962\n",
      "Epoch 12/30\n",
      "\u001b[1m164/164\u001b[0m \u001b[32m━━━━━━━━━━━━━━━━━━━━\u001b[0m\u001b[37m\u001b[0m \u001b[1m1s\u001b[0m 5ms/step - accuracy: 0.8100 - loss: 0.4074 - val_accuracy: 0.9218 - val_loss: 0.3110\n",
      "Epoch 13/30\n",
      "\u001b[1m164/164\u001b[0m \u001b[32m━━━━━━━━━━━━━━━━━━━━\u001b[0m\u001b[37m\u001b[0m \u001b[1m1s\u001b[0m 5ms/step - accuracy: 0.8500 - loss: 0.3574 - val_accuracy: 0.9415 - val_loss: 0.2278\n",
      "Epoch 14/30\n",
      "\u001b[1m164/164\u001b[0m \u001b[32m━━━━━━━━━━━━━━━━━━━━\u001b[0m\u001b[37m\u001b[0m \u001b[1m1s\u001b[0m 5ms/step - accuracy: 0.9011 - loss: 0.2920 - val_accuracy: 0.9392 - val_loss: 0.1888\n",
      "Epoch 15/30\n",
      "\u001b[1m164/164\u001b[0m \u001b[32m━━━━━━━━━━━━━━━━━━━━\u001b[0m\u001b[37m\u001b[0m \u001b[1m1s\u001b[0m 6ms/step - accuracy: 0.9219 - loss: 0.2390 - val_accuracy: 0.9655 - val_loss: 0.1612\n",
      "Epoch 16/30\n",
      "\u001b[1m164/164\u001b[0m \u001b[32m━━━━━━━━━━━━━━━━━━━━\u001b[0m\u001b[37m\u001b[0m \u001b[1m1s\u001b[0m 6ms/step - accuracy: 0.9161 - loss: 0.2382 - val_accuracy: 0.9720 - val_loss: 0.1579\n",
      "Epoch 17/30\n",
      "\u001b[1m164/164\u001b[0m \u001b[32m━━━━━━━━━━━━━━━━━━━━\u001b[0m\u001b[37m\u001b[0m \u001b[1m1s\u001b[0m 6ms/step - accuracy: 0.9241 - loss: 0.2299 - val_accuracy: 0.9814 - val_loss: 0.1610\n",
      "Epoch 18/30\n",
      "\u001b[1m164/164\u001b[0m \u001b[32m━━━━━━━━━━━━━━━━━━━━\u001b[0m\u001b[37m\u001b[0m \u001b[1m1s\u001b[0m 5ms/step - accuracy: 0.9330 - loss: 0.2020 - val_accuracy: 0.9808 - val_loss: 0.1392\n",
      "Epoch 19/30\n",
      "\u001b[1m164/164\u001b[0m \u001b[32m━━━━━━━━━━━━━━━━━━━━\u001b[0m\u001b[37m\u001b[0m \u001b[1m1s\u001b[0m 5ms/step - accuracy: 0.9384 - loss: 0.1874 - val_accuracy: 0.9820 - val_loss: 0.1656\n",
      "Epoch 20/30\n",
      "\u001b[1m164/164\u001b[0m \u001b[32m━━━━━━━━━━━━━━━━━━━━\u001b[0m\u001b[37m\u001b[0m \u001b[1m1s\u001b[0m 6ms/step - accuracy: 0.9483 - loss: 0.1685 - val_accuracy: 0.9621 - val_loss: 0.1405\n",
      "Epoch 21/30\n",
      "\u001b[1m164/164\u001b[0m \u001b[32m━━━━━━━━━━━━━━━━━━━━\u001b[0m\u001b[37m\u001b[0m \u001b[1m1s\u001b[0m 5ms/step - accuracy: 0.9352 - loss: 0.1823 - val_accuracy: 0.9824 - val_loss: 0.1460\n",
      "Epoch 22/30\n",
      "\u001b[1m164/164\u001b[0m \u001b[32m━━━━━━━━━━━━━━━━━━━━\u001b[0m\u001b[37m\u001b[0m \u001b[1m1s\u001b[0m 5ms/step - accuracy: 0.9420 - loss: 0.1754 - val_accuracy: 0.9670 - val_loss: 0.1498\n",
      "Epoch 23/30\n",
      "\u001b[1m164/164\u001b[0m \u001b[32m━━━━━━━━━━━━━━━━━━━━\u001b[0m\u001b[37m\u001b[0m \u001b[1m1s\u001b[0m 5ms/step - accuracy: 0.9392 - loss: 0.1714 - val_accuracy: 0.9659 - val_loss: 0.1285\n",
      "Epoch 24/30\n",
      "\u001b[1m164/164\u001b[0m \u001b[32m━━━━━━━━━━━━━━━━━━━━\u001b[0m\u001b[37m\u001b[0m \u001b[1m1s\u001b[0m 5ms/step - accuracy: 0.9426 - loss: 0.1718 - val_accuracy: 0.9755 - val_loss: 0.1352\n",
      "Epoch 25/30\n",
      "\u001b[1m164/164\u001b[0m \u001b[32m━━━━━━━━━━━━━━━━━━━━\u001b[0m\u001b[37m\u001b[0m \u001b[1m1s\u001b[0m 5ms/step - accuracy: 0.9454 - loss: 0.1659 - val_accuracy: 0.9826 - val_loss: 0.1220\n",
      "Epoch 26/30\n",
      "\u001b[1m164/164\u001b[0m \u001b[32m━━━━━━━━━━━━━━━━━━━━\u001b[0m\u001b[37m\u001b[0m \u001b[1m1s\u001b[0m 6ms/step - accuracy: 0.9480 - loss: 0.1623 - val_accuracy: 0.9718 - val_loss: 0.1320\n",
      "Epoch 27/30\n",
      "\u001b[1m164/164\u001b[0m \u001b[32m━━━━━━━━━━━━━━━━━━━━\u001b[0m\u001b[37m\u001b[0m \u001b[1m1s\u001b[0m 5ms/step - accuracy: 0.9510 - loss: 0.1545 - val_accuracy: 0.9826 - val_loss: 0.1331\n",
      "Epoch 28/30\n",
      "\u001b[1m164/164\u001b[0m \u001b[32m━━━━━━━━━━━━━━━━━━━━\u001b[0m\u001b[37m\u001b[0m \u001b[1m1s\u001b[0m 5ms/step - accuracy: 0.9525 - loss: 0.1523 - val_accuracy: 0.9801 - val_loss: 0.1081\n",
      "Epoch 29/30\n",
      "\u001b[1m164/164\u001b[0m \u001b[32m━━━━━━━━━━━━━━━━━━━━\u001b[0m\u001b[37m\u001b[0m \u001b[1m1s\u001b[0m 5ms/step - accuracy: 0.9533 - loss: 0.1427 - val_accuracy: 0.9793 - val_loss: 0.1268\n",
      "Epoch 30/30\n",
      "\u001b[1m164/164\u001b[0m \u001b[32m━━━━━━━━━━━━━━━━━━━━\u001b[0m\u001b[37m\u001b[0m \u001b[1m1s\u001b[0m 5ms/step - accuracy: 0.9581 - loss: 0.1397 - val_accuracy: 0.9812 - val_loss: 0.1144\n"
     ]
    },
    {
     "data": {
      "text/plain": [
       "<keras.src.callbacks.history.History at 0x7fdc63658090>"
      ]
     },
     "execution_count": 343,
     "metadata": {},
     "output_type": "execute_result"
    }
   ],
   "source": [
    "model_soft.fit(x=X_train_scaled, y=y_train, validation_data=(X_test_scaled, y_test), shuffle=True, batch_size=32, callbacks=[es], verbose=1, epochs=30)"
   ]
  },
  {
   "cell_type": "code",
   "execution_count": 344,
   "id": "f15b6d73",
   "metadata": {},
   "outputs": [
    {
     "name": "stdout",
     "output_type": "stream",
     "text": [
      "\u001b[1m164/164\u001b[0m \u001b[32m━━━━━━━━━━━━━━━━━━━━\u001b[0m\u001b[37m\u001b[0m \u001b[1m0s\u001b[0m 2ms/step - accuracy: 0.9819 - loss: 0.1029\n",
      "Loss no conjunto de teste: 0.1081\n",
      "Accuracy no conjunto de teste: 0.9801\n"
     ]
    }
   ],
   "source": [
    "# Testar modelo\n",
    "\n",
    "loss, accuracy = model_soft.evaluate(X_test_scaled, y_test, batch_size=32)\n",
    "print(f'Loss no conjunto de teste: {loss:.4f}')\n",
    "print(f'Accuracy no conjunto de teste: {accuracy:.4f}')"
   ]
  }
 ],
 "metadata": {
  "kernelspec": {
   "display_name": ".venv",
   "language": "python",
   "name": "python3"
  },
  "language_info": {
   "codemirror_mode": {
    "name": "ipython",
    "version": 3
   },
   "file_extension": ".py",
   "mimetype": "text/x-python",
   "name": "python",
   "nbconvert_exporter": "python",
   "pygments_lexer": "ipython3",
   "version": "3.11.2"
  }
 },
 "nbformat": 4,
 "nbformat_minor": 5
}
