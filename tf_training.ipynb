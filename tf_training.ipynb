{
 "cells": [
  {
   "cell_type": "code",
   "execution_count": 299,
   "id": "d7adcf1d",
   "metadata": {},
   "outputs": [],
   "source": [
    "# Montar/treinar o modelo e verificar a precisão"
   ]
  },
  {
   "cell_type": "code",
   "execution_count": 3,
   "id": "53f50d7a",
   "metadata": {},
   "outputs": [
    {
     "name": "stderr",
     "output_type": "stream",
     "text": [
      "2025-06-20 22:16:47.241038: I tensorflow/core/util/port.cc:153] oneDNN custom operations are on. You may see slightly different numerical results due to floating-point round-off errors from different computation orders. To turn them off, set the environment variable `TF_ENABLE_ONEDNN_OPTS=0`.\n",
      "2025-06-20 22:16:47.241479: I external/local_xla/xla/tsl/cuda/cudart_stub.cc:32] Could not find cuda drivers on your machine, GPU will not be used.\n",
      "2025-06-20 22:16:47.243976: I external/local_xla/xla/tsl/cuda/cudart_stub.cc:32] Could not find cuda drivers on your machine, GPU will not be used.\n",
      "2025-06-20 22:16:47.250235: E external/local_xla/xla/stream_executor/cuda/cuda_fft.cc:467] Unable to register cuFFT factory: Attempting to register factory for plugin cuFFT when one has already been registered\n",
      "WARNING: All log messages before absl::InitializeLog() is called are written to STDERR\n",
      "E0000 00:00:1750468607.260022  181769 cuda_dnn.cc:8579] Unable to register cuDNN factory: Attempting to register factory for plugin cuDNN when one has already been registered\n",
      "E0000 00:00:1750468607.263049  181769 cuda_blas.cc:1407] Unable to register cuBLAS factory: Attempting to register factory for plugin cuBLAS when one has already been registered\n",
      "W0000 00:00:1750468607.271373  181769 computation_placer.cc:177] computation placer already registered. Please check linkage and avoid linking the same target more than once.\n",
      "W0000 00:00:1750468607.271390  181769 computation_placer.cc:177] computation placer already registered. Please check linkage and avoid linking the same target more than once.\n",
      "W0000 00:00:1750468607.271391  181769 computation_placer.cc:177] computation placer already registered. Please check linkage and avoid linking the same target more than once.\n",
      "W0000 00:00:1750468607.271392  181769 computation_placer.cc:177] computation placer already registered. Please check linkage and avoid linking the same target more than once.\n",
      "2025-06-20 22:16:47.274509: I tensorflow/core/platform/cpu_feature_guard.cc:210] This TensorFlow binary is optimized to use available CPU instructions in performance-critical operations.\n",
      "To enable the following instructions: AVX2 AVX_VNNI FMA, in other operations, rebuild TensorFlow with the appropriate compiler flags.\n"
     ]
    }
   ],
   "source": [
    "import tensorflow as tf\n",
    "import keras\n",
    "import pandas as pd\n",
    "import numpy as np\n",
    "from sklearn.model_selection import train_test_split\n",
    "from sklearn.preprocessing import MinMaxScaler\n",
    "from category_encoders import OneHotEncoder\n",
    "from datetime import datetime\n"
   ]
  },
  {
   "cell_type": "code",
   "execution_count": 349,
   "id": "f3ac5ebf",
   "metadata": {},
   "outputs": [
    {
     "data": {
      "text/html": [
       "<div>\n",
       "<style scoped>\n",
       "    .dataframe tbody tr th:only-of-type {\n",
       "        vertical-align: middle;\n",
       "    }\n",
       "\n",
       "    .dataframe tbody tr th {\n",
       "        vertical-align: top;\n",
       "    }\n",
       "\n",
       "    .dataframe thead th {\n",
       "        text-align: right;\n",
       "    }\n",
       "</style>\n",
       "<table border=\"1\" class=\"dataframe\">\n",
       "  <thead>\n",
       "    <tr style=\"text-align: right;\">\n",
       "      <th></th>\n",
       "      <th>data_ocorrencia</th>\n",
       "      <th>hora_ocorrencia</th>\n",
       "      <th>regiao_administrativa</th>\n",
       "      <th>tipo_crime</th>\n",
       "      <th>sexo_vitima</th>\n",
       "      <th>idade_vitima</th>\n",
       "      <th>risco</th>\n",
       "    </tr>\n",
       "  </thead>\n",
       "  <tbody>\n",
       "    <tr>\n",
       "      <th>0</th>\n",
       "      <td>2023-01-14</td>\n",
       "      <td>21:00</td>\n",
       "      <td>0</td>\n",
       "      <td>0</td>\n",
       "      <td>2</td>\n",
       "      <td>19</td>\n",
       "      <td>5.241323e-08</td>\n",
       "    </tr>\n",
       "    <tr>\n",
       "      <th>1</th>\n",
       "      <td>2023-01-20</td>\n",
       "      <td>02:00</td>\n",
       "      <td>0</td>\n",
       "      <td>0</td>\n",
       "      <td>2</td>\n",
       "      <td>17</td>\n",
       "      <td>5.241323e-08</td>\n",
       "    </tr>\n",
       "    <tr>\n",
       "      <th>2</th>\n",
       "      <td>2023-01-24</td>\n",
       "      <td>20:15</td>\n",
       "      <td>0</td>\n",
       "      <td>0</td>\n",
       "      <td>2</td>\n",
       "      <td>30</td>\n",
       "      <td>5.241323e-08</td>\n",
       "    </tr>\n",
       "    <tr>\n",
       "      <th>3</th>\n",
       "      <td>2023-01-03</td>\n",
       "      <td>09:30</td>\n",
       "      <td>0</td>\n",
       "      <td>2</td>\n",
       "      <td>1</td>\n",
       "      <td>41</td>\n",
       "      <td>5.241323e-08</td>\n",
       "    </tr>\n",
       "    <tr>\n",
       "      <th>4</th>\n",
       "      <td>2023-01-18</td>\n",
       "      <td>20:00</td>\n",
       "      <td>0</td>\n",
       "      <td>2</td>\n",
       "      <td>1</td>\n",
       "      <td>54</td>\n",
       "      <td>5.241323e-08</td>\n",
       "    </tr>\n",
       "  </tbody>\n",
       "</table>\n",
       "</div>"
      ],
      "text/plain": [
       "  data_ocorrencia hora_ocorrencia  regiao_administrativa  tipo_crime  \\\n",
       "0      2023-01-14           21:00                      0           0   \n",
       "1      2023-01-20           02:00                      0           0   \n",
       "2      2023-01-24           20:15                      0           0   \n",
       "3      2023-01-03           09:30                      0           2   \n",
       "4      2023-01-18           20:00                      0           2   \n",
       "\n",
       "   sexo_vitima  idade_vitima         risco  \n",
       "0            2            19  5.241323e-08  \n",
       "1            2            17  5.241323e-08  \n",
       "2            2            30  5.241323e-08  \n",
       "3            1            41  5.241323e-08  \n",
       "4            1            54  5.241323e-08  "
      ]
     },
     "execution_count": 349,
     "metadata": {},
     "output_type": "execute_result"
    }
   ],
   "source": [
    "df = pd.read_csv(\"./data-fict/Encoded_Data_Ocorr.csv\")\n",
    "df.head()"
   ]
  },
  {
   "cell_type": "code",
   "execution_count": 350,
   "id": "e8a2808d",
   "metadata": {},
   "outputs": [],
   "source": [
    "## Separação da variável dependente\n",
    "\n",
    "X = df.drop(columns=[\"risco\", \"tipo_crime\"])\n",
    "y = df[\"risco\"]"
   ]
  },
  {
   "cell_type": "code",
   "execution_count": 351,
   "id": "45d577c1",
   "metadata": {},
   "outputs": [
    {
     "data": {
      "text/plain": [
       "0    5.241323e-08\n",
       "1    5.241323e-08\n",
       "2    5.241323e-08\n",
       "3    5.241323e-08\n",
       "4    5.241323e-08\n",
       "Name: risco, dtype: float64"
      ]
     },
     "execution_count": 351,
     "metadata": {},
     "output_type": "execute_result"
    }
   ],
   "source": [
    "y.head()"
   ]
  },
  {
   "cell_type": "code",
   "execution_count": 370,
   "id": "cd151422",
   "metadata": {},
   "outputs": [],
   "source": [
    "# Imputação dos dados\n",
    "## Isso aqui transforma os valores entre 0 e 1 \n",
    "\n",
    "scaler = MinMaxScaler()\n",
    "Y = scaler.fit_transform(y.values.reshape(-1, 1))\n",
    "Y = scaler.transform(y.values.reshape(-1, 1))\n",
    "\n",
    "Y = pd.DataFrame(Y, columns=[\"risco\"])\n",
    "Y.to_csv(\"./a.csv\", index=True)"
   ]
  },
  {
   "cell_type": "code",
   "execution_count": 334,
   "id": "7c1658fc",
   "metadata": {},
   "outputs": [
    {
     "name": "stdout",
     "output_type": "stream",
     "text": [
      "[[0.00132747]\n",
      " [0.00132747]\n",
      " [0.00132747]\n",
      " ...\n",
      " [0.0111592 ]\n",
      " [0.0111592 ]\n",
      " [0.0111592 ]]\n"
     ]
    }
   ],
   "source": [
    "print(Y)"
   ]
  },
  {
   "cell_type": "code",
   "execution_count": 371,
   "id": "b9f589ae",
   "metadata": {},
   "outputs": [],
   "source": [
    "## Isso aqui transforma os valores entre 0 e 1 \n",
    "scaler = MinMaxScaler()\n",
    "Y = scaler.fit_transform(y.values.reshape(-1, 1))\n",
    "Y = scaler.transform(y.values.reshape(-1, 1))\n",
    "\n",
    "def classifica_valor(x):\n",
    "    if x > 0.8: \n",
    "        return 5\n",
    "    elif x > 0.6:\n",
    "        return 4\n",
    "    elif x > 0.4:\n",
    "        return 3\n",
    "    elif x > 0.2:\n",
    "        return 2\n",
    "    elif x >= 0.0:\n",
    "        return 1\n",
    "\n",
    "Y = pd.DataFrame(Y, columns=[\"risco\"])\n",
    "Y['risco'] = Y['risco'].apply(classifica_valor)\n",
    "Y.to_csv(\"./b.csv\", index=True)"
   ]
  },
  {
   "cell_type": "code",
   "execution_count": 60,
   "id": "284208bf",
   "metadata": {},
   "outputs": [],
   "source": [
    "test = pd.read_csv(\"./data-fict/Ocorrencias_Com_Risco.csv\")\n",
    "\n",
    "test_teste = test.drop(columns=[\"risco\", \"tipo_crime\"])\n",
    "X = test_teste\n",
    "\n",
    "test_risco = test[\"risco\"]\n",
    "Y = test_risco\n"
   ]
  },
  {
   "cell_type": "code",
   "execution_count": 61,
   "id": "2cfd99d3",
   "metadata": {},
   "outputs": [
    {
     "data": {
      "text/html": [
       "<div>\n",
       "<style scoped>\n",
       "    .dataframe tbody tr th:only-of-type {\n",
       "        vertical-align: middle;\n",
       "    }\n",
       "\n",
       "    .dataframe tbody tr th {\n",
       "        vertical-align: top;\n",
       "    }\n",
       "\n",
       "    .dataframe thead th {\n",
       "        text-align: right;\n",
       "    }\n",
       "</style>\n",
       "<table border=\"1\" class=\"dataframe\">\n",
       "  <thead>\n",
       "    <tr style=\"text-align: right;\">\n",
       "      <th></th>\n",
       "      <th>data_ocorrencia</th>\n",
       "      <th>hora_ocorrencia</th>\n",
       "      <th>regiao_administrativa</th>\n",
       "      <th>sexo_vitima</th>\n",
       "      <th>idade_vitima</th>\n",
       "    </tr>\n",
       "  </thead>\n",
       "  <tbody>\n",
       "    <tr>\n",
       "      <th>0</th>\n",
       "      <td>2023-01-14</td>\n",
       "      <td>1260</td>\n",
       "      <td>0</td>\n",
       "      <td>2</td>\n",
       "      <td>19</td>\n",
       "    </tr>\n",
       "    <tr>\n",
       "      <th>1</th>\n",
       "      <td>2023-01-20</td>\n",
       "      <td>120</td>\n",
       "      <td>0</td>\n",
       "      <td>2</td>\n",
       "      <td>17</td>\n",
       "    </tr>\n",
       "    <tr>\n",
       "      <th>2</th>\n",
       "      <td>2023-01-24</td>\n",
       "      <td>1215</td>\n",
       "      <td>0</td>\n",
       "      <td>2</td>\n",
       "      <td>30</td>\n",
       "    </tr>\n",
       "    <tr>\n",
       "      <th>3</th>\n",
       "      <td>2023-01-03</td>\n",
       "      <td>570</td>\n",
       "      <td>0</td>\n",
       "      <td>1</td>\n",
       "      <td>41</td>\n",
       "    </tr>\n",
       "    <tr>\n",
       "      <th>4</th>\n",
       "      <td>2023-01-18</td>\n",
       "      <td>1200</td>\n",
       "      <td>0</td>\n",
       "      <td>1</td>\n",
       "      <td>54</td>\n",
       "    </tr>\n",
       "  </tbody>\n",
       "</table>\n",
       "</div>"
      ],
      "text/plain": [
       "  data_ocorrencia  hora_ocorrencia  regiao_administrativa  sexo_vitima  \\\n",
       "0      2023-01-14             1260                      0            2   \n",
       "1      2023-01-20              120                      0            2   \n",
       "2      2023-01-24             1215                      0            2   \n",
       "3      2023-01-03              570                      0            1   \n",
       "4      2023-01-18             1200                      0            1   \n",
       "\n",
       "   idade_vitima  \n",
       "0            19  \n",
       "1            17  \n",
       "2            30  \n",
       "3            41  \n",
       "4            54  "
      ]
     },
     "execution_count": 61,
     "metadata": {},
     "output_type": "execute_result"
    }
   ],
   "source": [
    "# Conversão da hora string para minutos\n",
    "\n",
    "def tempo_para_minutos(tempo):\n",
    "    # Divide a string 'hh:mm' em horas e minutos\n",
    "    horas, minutos = map(int, tempo.split(':'))\n",
    "    \n",
    "    # Converte tudo para minutos\n",
    "    total_minutos = horas * 60 + minutos\n",
    "    return total_minutos\n",
    "\n",
    "X[\"hora_ocorrencia\"] = X[\"hora_ocorrencia\"].apply(tempo_para_minutos)\n",
    "\n",
    "X.head()"
   ]
  },
  {
   "cell_type": "code",
   "execution_count": 62,
   "id": "a6a2255f",
   "metadata": {},
   "outputs": [
    {
     "data": {
      "text/html": [
       "<div>\n",
       "<style scoped>\n",
       "    .dataframe tbody tr th:only-of-type {\n",
       "        vertical-align: middle;\n",
       "    }\n",
       "\n",
       "    .dataframe tbody tr th {\n",
       "        vertical-align: top;\n",
       "    }\n",
       "\n",
       "    .dataframe thead th {\n",
       "        text-align: right;\n",
       "    }\n",
       "</style>\n",
       "<table border=\"1\" class=\"dataframe\">\n",
       "  <thead>\n",
       "    <tr style=\"text-align: right;\">\n",
       "      <th></th>\n",
       "      <th>data_ocorrencia</th>\n",
       "      <th>hora_ocorrencia</th>\n",
       "      <th>regiao_administrativa</th>\n",
       "      <th>sexo_vitima</th>\n",
       "      <th>idade_vitima</th>\n",
       "    </tr>\n",
       "  </thead>\n",
       "  <tbody>\n",
       "    <tr>\n",
       "      <th>0</th>\n",
       "      <td>19371</td>\n",
       "      <td>1260</td>\n",
       "      <td>0</td>\n",
       "      <td>2</td>\n",
       "      <td>19</td>\n",
       "    </tr>\n",
       "    <tr>\n",
       "      <th>1</th>\n",
       "      <td>19377</td>\n",
       "      <td>120</td>\n",
       "      <td>0</td>\n",
       "      <td>2</td>\n",
       "      <td>17</td>\n",
       "    </tr>\n",
       "    <tr>\n",
       "      <th>2</th>\n",
       "      <td>19381</td>\n",
       "      <td>1215</td>\n",
       "      <td>0</td>\n",
       "      <td>2</td>\n",
       "      <td>30</td>\n",
       "    </tr>\n",
       "    <tr>\n",
       "      <th>3</th>\n",
       "      <td>19360</td>\n",
       "      <td>570</td>\n",
       "      <td>0</td>\n",
       "      <td>1</td>\n",
       "      <td>41</td>\n",
       "    </tr>\n",
       "    <tr>\n",
       "      <th>4</th>\n",
       "      <td>19375</td>\n",
       "      <td>1200</td>\n",
       "      <td>0</td>\n",
       "      <td>1</td>\n",
       "      <td>54</td>\n",
       "    </tr>\n",
       "  </tbody>\n",
       "</table>\n",
       "</div>"
      ],
      "text/plain": [
       "   data_ocorrencia  hora_ocorrencia  regiao_administrativa  sexo_vitima  \\\n",
       "0            19371             1260                      0            2   \n",
       "1            19377              120                      0            2   \n",
       "2            19381             1215                      0            2   \n",
       "3            19360              570                      0            1   \n",
       "4            19375             1200                      0            1   \n",
       "\n",
       "   idade_vitima  \n",
       "0            19  \n",
       "1            17  \n",
       "2            30  \n",
       "3            41  \n",
       "4            54  "
      ]
     },
     "execution_count": 62,
     "metadata": {},
     "output_type": "execute_result"
    }
   ],
   "source": [
    "def data_para_dias(data_str):\n",
    "    data = datetime.strptime(data_str, r'%Y-%m-%d')\n",
    "    referencia = datetime(1970, 1, 1)\n",
    "    return (data - referencia).days\n",
    "\n",
    "X[\"data_ocorrencia\"] = X[\"data_ocorrencia\"].apply(data_para_dias)\n",
    "\n",
    "X.head()"
   ]
  },
  {
   "cell_type": "code",
   "execution_count": 90,
   "id": "664a4adc",
   "metadata": {},
   "outputs": [],
   "source": [
    "# Isso aqui divide o treino do teste com uma proporção de 0.5 \n",
    "## Se esse valor ficar muito grande, a eficiência pode ser reduzida porque o modelo começa a decorar os dados\n",
    "\n",
    "X_train, X_test, y_train, y_test = train_test_split(X, Y, test_size=0.5, random_state=42)"
   ]
  },
  {
   "cell_type": "code",
   "execution_count": 91,
   "id": "d9e5b6c2",
   "metadata": {},
   "outputs": [
    {
     "name": "stdout",
     "output_type": "stream",
     "text": [
      "      data_ocorrencia  hora_ocorrencia  regiao_administrativa  sexo_vitima  \\\n",
      "4750            19385              510                      9            1   \n",
      "9884            19367             1110                     29            2   \n",
      "6010            19358              540                     17            2   \n",
      "5676            19364              600                     16            2   \n",
      "7249            19378              390                     20            2   \n",
      "...               ...              ...                    ...          ...   \n",
      "5734            19367              930                     16            1   \n",
      "5191            19381             1080                     14            2   \n",
      "5390            19376              855                     16            2   \n",
      "860             19375              270                      1            1   \n",
      "7270            19388              240                     20            1   \n",
      "\n",
      "      idade_vitima  \n",
      "4750            37  \n",
      "9884            50  \n",
      "6010            45  \n",
      "5676            53  \n",
      "7249            64  \n",
      "...            ...  \n",
      "5734            51  \n",
      "5191            46  \n",
      "5390            18  \n",
      "860             34  \n",
      "7270            41  \n",
      "\n",
      "[5218 rows x 5 columns]\n"
     ]
    }
   ],
   "source": [
    "print(X_train)"
   ]
  },
  {
   "cell_type": "code",
   "execution_count": 92,
   "id": "395b6134",
   "metadata": {},
   "outputs": [],
   "source": [
    "# Imputação dos dados\n",
    "## Isso aqui transforma os valores entre 0 e 1 \n",
    "\n",
    "scaler = MinMaxScaler()\n",
    "X_train_scaled = scaler.fit_transform(X_train)\n",
    "X_test_scaled = scaler.transform(X_test)"
   ]
  },
  {
   "cell_type": "code",
   "execution_count": 93,
   "id": "abdcd169",
   "metadata": {},
   "outputs": [
    {
     "name": "stdout",
     "output_type": "stream",
     "text": [
      "[[0.9        0.35789474 0.28125    0.         0.43103448]\n",
      " [0.3        0.77894737 0.90625    1.         0.65517241]\n",
      " [0.         0.37894737 0.53125    1.         0.56896552]\n",
      " ...\n",
      " [0.6        0.6        0.5        1.         0.10344828]\n",
      " [0.56666667 0.18947368 0.03125    0.         0.37931034]\n",
      " [1.         0.16842105 0.625      0.         0.5       ]]\n"
     ]
    }
   ],
   "source": [
    "print(X_train_scaled)"
   ]
  },
  {
   "cell_type": "code",
   "execution_count": null,
   "id": "663d19fc",
   "metadata": {},
   "outputs": [
    {
     "ename": "IndexError",
     "evalue": "tuple index out of range",
     "output_type": "error",
     "traceback": [
      "\u001b[31m---------------------------------------------------------------------------\u001b[39m",
      "\u001b[31mIndexError\u001b[39m                                Traceback (most recent call last)",
      "\u001b[36mCell\u001b[39m\u001b[36m \u001b[39m\u001b[32mIn[106]\u001b[39m\u001b[32m, line 7\u001b[39m\n\u001b[32m      4\u001b[39m n_classes = y_train.nunique()\n\u001b[32m      6\u001b[39m \u001b[38;5;66;03m# Construção das camadas\u001b[39;00m\n\u001b[32m----> \u001b[39m\u001b[32m7\u001b[39m inp = keras.layers.Input((\u001b[43my_train\u001b[49m\u001b[43m.\u001b[49m\u001b[43mshape\u001b[49m\u001b[43m[\u001b[49m\u001b[32;43m1\u001b[39;49m\u001b[43m]\u001b[49m, ))\n\u001b[32m      8\u001b[39m hid = keras.layers.Dense(\u001b[32m4\u001b[39m, activation=\u001b[33m\"\u001b[39m\u001b[33mrelu\u001b[39m\u001b[33m\"\u001b[39m)(inp)\n\u001b[32m     10\u001b[39m out_soft = keras.layers.Dense(n_classes, activation=\u001b[33m\"\u001b[39m\u001b[33msoftmax\u001b[39m\u001b[33m\"\u001b[39m)(hid)\n",
      "\u001b[31mIndexError\u001b[39m: tuple index out of range"
     ]
    }
   ],
   "source": [
    "# tf.random.set_seed(2)\n",
    "#\n",
    "\n",
    "n_classes = y_train.nunique()\n",
    "\n",
    "# Construção das camadas\n",
    "inp = keras.layers.Input((X_train_scaled.shape[1], ))\n",
    "hid = keras.layers.Dense(4, activation=\"relu\")(inp)\n",
    "\n",
    "out_soft = keras.layers.Dense(n_classes, activation=\"softmax\")(hid)\n",
    "# out_sig = keras.layers.Dense(units=1, activation=\"sigmoid\")(drop)\n",
    "\n",
    "\n",
    "# model_sig = keras.Model(inp, out_sig)\n",
    "model_soft = keras.Model(inp, out_soft)\n",
    "\n",
    "# model_sig.compile(optimizer='adam',\n",
    "#               loss='msle',\n",
    "#               metrics=['accuracy'])\n",
    "model_soft.compile(optimizer='adam',\n",
    "                   loss=\"sparse_categorical_crossentropy\",\n",
    "                   metrics=[\"accuracy\"])\n",
    "\n",
    "# model_sig.summary()\n",
    "model_soft.summary()"
   ]
  },
  {
   "cell_type": "code",
   "execution_count": 95,
   "id": "8c85a545",
   "metadata": {},
   "outputs": [],
   "source": [
    "es = keras.callbacks.EarlyStopping(\n",
    "    monitor=\"val_loss\", min_delta=0, patience=10, mode=\"min\", restore_best_weights=True,\n",
    ")"
   ]
  },
  {
   "cell_type": "code",
   "execution_count": 105,
   "id": "8136a503",
   "metadata": {},
   "outputs": [
    {
     "name": "stdout",
     "output_type": "stream",
     "text": [
      "(5218, 5)\n",
      "[[0.9        0.35789474 0.28125    0.         0.43103448]\n",
      " [0.3        0.77894737 0.90625    1.         0.65517241]\n",
      " [0.         0.37894737 0.53125    1.         0.56896552]\n",
      " ...\n",
      " [0.6        0.6        0.5        1.         0.10344828]\n",
      " [0.56666667 0.18947368 0.03125    0.         0.37931034]\n",
      " [1.         0.16842105 0.625      0.         0.5       ]]\n"
     ]
    }
   ],
   "source": [
    "print(np.array(X_train_scaled).shape)\n",
    "print(np.array(X_train_scaled))"
   ]
  },
  {
   "cell_type": "code",
   "execution_count": 102,
   "id": "959ff91b",
   "metadata": {},
   "outputs": [
    {
     "name": "stdout",
     "output_type": "stream",
     "text": [
      "Epoch 1/20\n"
     ]
    },
    {
     "name": "stderr",
     "output_type": "stream",
     "text": [
      "2025-06-20 22:51:45.658526: W tensorflow/core/framework/op_kernel.cc:1857] OP_REQUIRES failed at sparse_xent_op.cc:103 : INVALID_ARGUMENT: Received a label value of 5 which is outside the valid range of [0, 5).  Label values: 3 3 3 5 3 2 3 4 1 5 2 2 5 3 1 4 3 2 4 5 4 4 2 4 5 5 2 4 4 4 4 2\n"
     ]
    },
    {
     "ename": "InvalidArgumentError",
     "evalue": "Graph execution error:\n\nDetected at node compile_loss/sparse_categorical_crossentropy/SparseSoftmaxCrossEntropyWithLogits/SparseSoftmaxCrossEntropyWithLogits defined at (most recent call last):\n  File \"<frozen runpy>\", line 198, in _run_module_as_main\n\n  File \"<frozen runpy>\", line 88, in _run_code\n\n  File \"/home/garciavp/-ruelers.h-AI/.venv/lib/python3.11/site-packages/ipykernel_launcher.py\", line 18, in <module>\n\n  File \"/home/garciavp/-ruelers.h-AI/.venv/lib/python3.11/site-packages/traitlets/config/application.py\", line 1075, in launch_instance\n\n  File \"/home/garciavp/-ruelers.h-AI/.venv/lib/python3.11/site-packages/ipykernel/kernelapp.py\", line 739, in start\n\n  File \"/home/garciavp/-ruelers.h-AI/.venv/lib/python3.11/site-packages/tornado/platform/asyncio.py\", line 211, in start\n\n  File \"/usr/lib/python3.11/asyncio/base_events.py\", line 607, in run_forever\n\n  File \"/usr/lib/python3.11/asyncio/base_events.py\", line 1922, in _run_once\n\n  File \"/usr/lib/python3.11/asyncio/events.py\", line 80, in _run\n\n  File \"/home/garciavp/-ruelers.h-AI/.venv/lib/python3.11/site-packages/ipykernel/kernelbase.py\", line 545, in dispatch_queue\n\n  File \"/home/garciavp/-ruelers.h-AI/.venv/lib/python3.11/site-packages/ipykernel/kernelbase.py\", line 534, in process_one\n\n  File \"/home/garciavp/-ruelers.h-AI/.venv/lib/python3.11/site-packages/ipykernel/kernelbase.py\", line 437, in dispatch_shell\n\n  File \"/home/garciavp/-ruelers.h-AI/.venv/lib/python3.11/site-packages/ipykernel/ipkernel.py\", line 362, in execute_request\n\n  File \"/home/garciavp/-ruelers.h-AI/.venv/lib/python3.11/site-packages/ipykernel/kernelbase.py\", line 778, in execute_request\n\n  File \"/home/garciavp/-ruelers.h-AI/.venv/lib/python3.11/site-packages/ipykernel/ipkernel.py\", line 449, in do_execute\n\n  File \"/home/garciavp/-ruelers.h-AI/.venv/lib/python3.11/site-packages/ipykernel/zmqshell.py\", line 549, in run_cell\n\n  File \"/home/garciavp/-ruelers.h-AI/.venv/lib/python3.11/site-packages/IPython/core/interactiveshell.py\", line 3100, in run_cell\n\n  File \"/home/garciavp/-ruelers.h-AI/.venv/lib/python3.11/site-packages/IPython/core/interactiveshell.py\", line 3155, in _run_cell\n\n  File \"/home/garciavp/-ruelers.h-AI/.venv/lib/python3.11/site-packages/IPython/core/async_helpers.py\", line 128, in _pseudo_sync_runner\n\n  File \"/home/garciavp/-ruelers.h-AI/.venv/lib/python3.11/site-packages/IPython/core/interactiveshell.py\", line 3367, in run_cell_async\n\n  File \"/home/garciavp/-ruelers.h-AI/.venv/lib/python3.11/site-packages/IPython/core/interactiveshell.py\", line 3612, in run_ast_nodes\n\n  File \"/home/garciavp/-ruelers.h-AI/.venv/lib/python3.11/site-packages/IPython/core/interactiveshell.py\", line 3672, in run_code\n\n  File \"/tmp/ipykernel_181769/845408111.py\", line 1, in <module>\n\n  File \"/home/garciavp/-ruelers.h-AI/.venv/lib/python3.11/site-packages/keras/src/utils/traceback_utils.py\", line 117, in error_handler\n\n  File \"/home/garciavp/-ruelers.h-AI/.venv/lib/python3.11/site-packages/keras/src/backend/tensorflow/trainer.py\", line 377, in fit\n\n  File \"/home/garciavp/-ruelers.h-AI/.venv/lib/python3.11/site-packages/keras/src/backend/tensorflow/trainer.py\", line 220, in function\n\n  File \"/home/garciavp/-ruelers.h-AI/.venv/lib/python3.11/site-packages/keras/src/backend/tensorflow/trainer.py\", line 133, in multi_step_on_iterator\n\n  File \"/home/garciavp/-ruelers.h-AI/.venv/lib/python3.11/site-packages/keras/src/backend/tensorflow/trainer.py\", line 114, in one_step_on_data\n\n  File \"/home/garciavp/-ruelers.h-AI/.venv/lib/python3.11/site-packages/keras/src/backend/tensorflow/trainer.py\", line 61, in train_step\n\n  File \"/home/garciavp/-ruelers.h-AI/.venv/lib/python3.11/site-packages/keras/src/trainers/trainer.py\", line 383, in _compute_loss\n\n  File \"/home/garciavp/-ruelers.h-AI/.venv/lib/python3.11/site-packages/keras/src/trainers/trainer.py\", line 351, in compute_loss\n\n  File \"/home/garciavp/-ruelers.h-AI/.venv/lib/python3.11/site-packages/keras/src/trainers/compile_utils.py\", line 690, in __call__\n\n  File \"/home/garciavp/-ruelers.h-AI/.venv/lib/python3.11/site-packages/keras/src/trainers/compile_utils.py\", line 699, in call\n\n  File \"/home/garciavp/-ruelers.h-AI/.venv/lib/python3.11/site-packages/keras/src/losses/loss.py\", line 67, in __call__\n\n  File \"/home/garciavp/-ruelers.h-AI/.venv/lib/python3.11/site-packages/keras/src/losses/losses.py\", line 33, in call\n\n  File \"/home/garciavp/-ruelers.h-AI/.venv/lib/python3.11/site-packages/keras/src/losses/losses.py\", line 2330, in sparse_categorical_crossentropy\n\n  File \"/home/garciavp/-ruelers.h-AI/.venv/lib/python3.11/site-packages/keras/src/ops/nn.py\", line 2000, in sparse_categorical_crossentropy\n\n  File \"/home/garciavp/-ruelers.h-AI/.venv/lib/python3.11/site-packages/keras/src/backend/tensorflow/nn.py\", line 753, in sparse_categorical_crossentropy\n\nReceived a label value of 5 which is outside the valid range of [0, 5).  Label values: 3 3 3 5 3 2 3 4 1 5 2 2 5 3 1 4 3 2 4 5 4 4 2 4 5 5 2 4 4 4 4 2\n\t [[{{node compile_loss/sparse_categorical_crossentropy/SparseSoftmaxCrossEntropyWithLogits/SparseSoftmaxCrossEntropyWithLogits}}]] [Op:__inference_multi_step_on_iterator_114292]",
     "output_type": "error",
     "traceback": [
      "\u001b[31m---------------------------------------------------------------------------\u001b[39m",
      "\u001b[31mInvalidArgumentError\u001b[39m                      Traceback (most recent call last)",
      "\u001b[36mCell\u001b[39m\u001b[36m \u001b[39m\u001b[32mIn[102]\u001b[39m\u001b[32m, line 1\u001b[39m\n\u001b[32m----> \u001b[39m\u001b[32m1\u001b[39m \u001b[43mmodel_soft\u001b[49m\u001b[43m.\u001b[49m\u001b[43mfit\u001b[49m\u001b[43m(\u001b[49m\u001b[43mx\u001b[49m\u001b[43m=\u001b[49m\u001b[43mX_train_scaled\u001b[49m\u001b[43m,\u001b[49m\u001b[43m \u001b[49m\u001b[43my\u001b[49m\u001b[43m=\u001b[49m\u001b[43my_train\u001b[49m\u001b[43m,\u001b[49m\u001b[43m \u001b[49m\u001b[43mvalidation_data\u001b[49m\u001b[43m=\u001b[49m\u001b[43m(\u001b[49m\u001b[43mX_test_scaled\u001b[49m\u001b[43m,\u001b[49m\u001b[43m \u001b[49m\u001b[43my_test\u001b[49m\u001b[43m)\u001b[49m\u001b[43m,\u001b[49m\u001b[43m \u001b[49m\u001b[43mshuffle\u001b[49m\u001b[43m=\u001b[49m\u001b[38;5;28;43;01mTrue\u001b[39;49;00m\u001b[43m,\u001b[49m\u001b[43m \u001b[49m\u001b[43mbatch_size\u001b[49m\u001b[43m=\u001b[49m\u001b[32;43m32\u001b[39;49m\u001b[43m,\u001b[49m\u001b[43m \u001b[49m\u001b[43mcallbacks\u001b[49m\u001b[43m=\u001b[49m\u001b[43m[\u001b[49m\u001b[43mes\u001b[49m\u001b[43m]\u001b[49m\u001b[43m,\u001b[49m\u001b[43m \u001b[49m\u001b[43mverbose\u001b[49m\u001b[43m=\u001b[49m\u001b[32;43m1\u001b[39;49m\u001b[43m,\u001b[49m\u001b[43m \u001b[49m\u001b[43mepochs\u001b[49m\u001b[43m=\u001b[49m\u001b[32;43m20\u001b[39;49m\u001b[43m)\u001b[49m\n",
      "\u001b[36mFile \u001b[39m\u001b[32m~/-ruelers.h-AI/.venv/lib/python3.11/site-packages/keras/src/utils/traceback_utils.py:122\u001b[39m, in \u001b[36mfilter_traceback.<locals>.error_handler\u001b[39m\u001b[34m(*args, **kwargs)\u001b[39m\n\u001b[32m    119\u001b[39m     filtered_tb = _process_traceback_frames(e.__traceback__)\n\u001b[32m    120\u001b[39m     \u001b[38;5;66;03m# To get the full stack trace, call:\u001b[39;00m\n\u001b[32m    121\u001b[39m     \u001b[38;5;66;03m# `keras.config.disable_traceback_filtering()`\u001b[39;00m\n\u001b[32m--> \u001b[39m\u001b[32m122\u001b[39m     \u001b[38;5;28;01mraise\u001b[39;00m e.with_traceback(filtered_tb) \u001b[38;5;28;01mfrom\u001b[39;00m\u001b[38;5;250m \u001b[39m\u001b[38;5;28;01mNone\u001b[39;00m\n\u001b[32m    123\u001b[39m \u001b[38;5;28;01mfinally\u001b[39;00m:\n\u001b[32m    124\u001b[39m     \u001b[38;5;28;01mdel\u001b[39;00m filtered_tb\n",
      "\u001b[36mFile \u001b[39m\u001b[32m~/-ruelers.h-AI/.venv/lib/python3.11/site-packages/tensorflow/python/eager/execute.py:53\u001b[39m, in \u001b[36mquick_execute\u001b[39m\u001b[34m(op_name, num_outputs, inputs, attrs, ctx, name)\u001b[39m\n\u001b[32m     51\u001b[39m \u001b[38;5;28;01mtry\u001b[39;00m:\n\u001b[32m     52\u001b[39m   ctx.ensure_initialized()\n\u001b[32m---> \u001b[39m\u001b[32m53\u001b[39m   tensors = pywrap_tfe.TFE_Py_Execute(ctx._handle, device_name, op_name,\n\u001b[32m     54\u001b[39m                                       inputs, attrs, num_outputs)\n\u001b[32m     55\u001b[39m \u001b[38;5;28;01mexcept\u001b[39;00m core._NotOkStatusException \u001b[38;5;28;01mas\u001b[39;00m e:\n\u001b[32m     56\u001b[39m   \u001b[38;5;28;01mif\u001b[39;00m name \u001b[38;5;129;01mis\u001b[39;00m \u001b[38;5;129;01mnot\u001b[39;00m \u001b[38;5;28;01mNone\u001b[39;00m:\n",
      "\u001b[31mInvalidArgumentError\u001b[39m: Graph execution error:\n\nDetected at node compile_loss/sparse_categorical_crossentropy/SparseSoftmaxCrossEntropyWithLogits/SparseSoftmaxCrossEntropyWithLogits defined at (most recent call last):\n  File \"<frozen runpy>\", line 198, in _run_module_as_main\n\n  File \"<frozen runpy>\", line 88, in _run_code\n\n  File \"/home/garciavp/-ruelers.h-AI/.venv/lib/python3.11/site-packages/ipykernel_launcher.py\", line 18, in <module>\n\n  File \"/home/garciavp/-ruelers.h-AI/.venv/lib/python3.11/site-packages/traitlets/config/application.py\", line 1075, in launch_instance\n\n  File \"/home/garciavp/-ruelers.h-AI/.venv/lib/python3.11/site-packages/ipykernel/kernelapp.py\", line 739, in start\n\n  File \"/home/garciavp/-ruelers.h-AI/.venv/lib/python3.11/site-packages/tornado/platform/asyncio.py\", line 211, in start\n\n  File \"/usr/lib/python3.11/asyncio/base_events.py\", line 607, in run_forever\n\n  File \"/usr/lib/python3.11/asyncio/base_events.py\", line 1922, in _run_once\n\n  File \"/usr/lib/python3.11/asyncio/events.py\", line 80, in _run\n\n  File \"/home/garciavp/-ruelers.h-AI/.venv/lib/python3.11/site-packages/ipykernel/kernelbase.py\", line 545, in dispatch_queue\n\n  File \"/home/garciavp/-ruelers.h-AI/.venv/lib/python3.11/site-packages/ipykernel/kernelbase.py\", line 534, in process_one\n\n  File \"/home/garciavp/-ruelers.h-AI/.venv/lib/python3.11/site-packages/ipykernel/kernelbase.py\", line 437, in dispatch_shell\n\n  File \"/home/garciavp/-ruelers.h-AI/.venv/lib/python3.11/site-packages/ipykernel/ipkernel.py\", line 362, in execute_request\n\n  File \"/home/garciavp/-ruelers.h-AI/.venv/lib/python3.11/site-packages/ipykernel/kernelbase.py\", line 778, in execute_request\n\n  File \"/home/garciavp/-ruelers.h-AI/.venv/lib/python3.11/site-packages/ipykernel/ipkernel.py\", line 449, in do_execute\n\n  File \"/home/garciavp/-ruelers.h-AI/.venv/lib/python3.11/site-packages/ipykernel/zmqshell.py\", line 549, in run_cell\n\n  File \"/home/garciavp/-ruelers.h-AI/.venv/lib/python3.11/site-packages/IPython/core/interactiveshell.py\", line 3100, in run_cell\n\n  File \"/home/garciavp/-ruelers.h-AI/.venv/lib/python3.11/site-packages/IPython/core/interactiveshell.py\", line 3155, in _run_cell\n\n  File \"/home/garciavp/-ruelers.h-AI/.venv/lib/python3.11/site-packages/IPython/core/async_helpers.py\", line 128, in _pseudo_sync_runner\n\n  File \"/home/garciavp/-ruelers.h-AI/.venv/lib/python3.11/site-packages/IPython/core/interactiveshell.py\", line 3367, in run_cell_async\n\n  File \"/home/garciavp/-ruelers.h-AI/.venv/lib/python3.11/site-packages/IPython/core/interactiveshell.py\", line 3612, in run_ast_nodes\n\n  File \"/home/garciavp/-ruelers.h-AI/.venv/lib/python3.11/site-packages/IPython/core/interactiveshell.py\", line 3672, in run_code\n\n  File \"/tmp/ipykernel_181769/845408111.py\", line 1, in <module>\n\n  File \"/home/garciavp/-ruelers.h-AI/.venv/lib/python3.11/site-packages/keras/src/utils/traceback_utils.py\", line 117, in error_handler\n\n  File \"/home/garciavp/-ruelers.h-AI/.venv/lib/python3.11/site-packages/keras/src/backend/tensorflow/trainer.py\", line 377, in fit\n\n  File \"/home/garciavp/-ruelers.h-AI/.venv/lib/python3.11/site-packages/keras/src/backend/tensorflow/trainer.py\", line 220, in function\n\n  File \"/home/garciavp/-ruelers.h-AI/.venv/lib/python3.11/site-packages/keras/src/backend/tensorflow/trainer.py\", line 133, in multi_step_on_iterator\n\n  File \"/home/garciavp/-ruelers.h-AI/.venv/lib/python3.11/site-packages/keras/src/backend/tensorflow/trainer.py\", line 114, in one_step_on_data\n\n  File \"/home/garciavp/-ruelers.h-AI/.venv/lib/python3.11/site-packages/keras/src/backend/tensorflow/trainer.py\", line 61, in train_step\n\n  File \"/home/garciavp/-ruelers.h-AI/.venv/lib/python3.11/site-packages/keras/src/trainers/trainer.py\", line 383, in _compute_loss\n\n  File \"/home/garciavp/-ruelers.h-AI/.venv/lib/python3.11/site-packages/keras/src/trainers/trainer.py\", line 351, in compute_loss\n\n  File \"/home/garciavp/-ruelers.h-AI/.venv/lib/python3.11/site-packages/keras/src/trainers/compile_utils.py\", line 690, in __call__\n\n  File \"/home/garciavp/-ruelers.h-AI/.venv/lib/python3.11/site-packages/keras/src/trainers/compile_utils.py\", line 699, in call\n\n  File \"/home/garciavp/-ruelers.h-AI/.venv/lib/python3.11/site-packages/keras/src/losses/loss.py\", line 67, in __call__\n\n  File \"/home/garciavp/-ruelers.h-AI/.venv/lib/python3.11/site-packages/keras/src/losses/losses.py\", line 33, in call\n\n  File \"/home/garciavp/-ruelers.h-AI/.venv/lib/python3.11/site-packages/keras/src/losses/losses.py\", line 2330, in sparse_categorical_crossentropy\n\n  File \"/home/garciavp/-ruelers.h-AI/.venv/lib/python3.11/site-packages/keras/src/ops/nn.py\", line 2000, in sparse_categorical_crossentropy\n\n  File \"/home/garciavp/-ruelers.h-AI/.venv/lib/python3.11/site-packages/keras/src/backend/tensorflow/nn.py\", line 753, in sparse_categorical_crossentropy\n\nReceived a label value of 5 which is outside the valid range of [0, 5).  Label values: 3 3 3 5 3 2 3 4 1 5 2 2 5 3 1 4 3 2 4 5 4 4 2 4 5 5 2 4 4 4 4 2\n\t [[{{node compile_loss/sparse_categorical_crossentropy/SparseSoftmaxCrossEntropyWithLogits/SparseSoftmaxCrossEntropyWithLogits}}]] [Op:__inference_multi_step_on_iterator_114292]"
     ]
    }
   ],
   "source": [
    "model_soft.fit(x=X_train_scaled, y=y_train, validation_data=(X_test_scaled, y_test), shuffle=True, batch_size=32, callbacks=[es], verbose=1, epochs=20)"
   ]
  },
  {
   "cell_type": "code",
   "execution_count": 88,
   "id": "f15b6d73",
   "metadata": {},
   "outputs": [
    {
     "name": "stdout",
     "output_type": "stream",
     "text": [
      "\u001b[1m164/164\u001b[0m \u001b[32m━━━━━━━━━━━━━━━━━━━━\u001b[0m\u001b[37m\u001b[0m \u001b[1m0s\u001b[0m 2ms/step - accuracy: 0.3684 - loss: 1.4199\n",
      "Loss no conjunto de teste: 1.4172\n",
      "Accuracy no conjunto de teste: 0.3752\n"
     ]
    }
   ],
   "source": [
    "# Testar modelo\n",
    "\n",
    "loss, accuracy = model_soft.evaluate(X_test_scaled, y_test, batch_size=32)\n",
    "print(f'Loss no conjunto de teste: {loss:.4f}')\n",
    "print(f'Accuracy no conjunto de teste: {accuracy:.4f}')"
   ]
  },
  {
   "cell_type": "code",
   "execution_count": 89,
   "id": "0dd82945",
   "metadata": {},
   "outputs": [],
   "source": [
    "model_soft.save(\"./modelos/modelo_crime.keras\")"
   ]
  }
 ],
 "metadata": {
  "kernelspec": {
   "display_name": ".venv",
   "language": "python",
   "name": "python3"
  },
  "language_info": {
   "codemirror_mode": {
    "name": "ipython",
    "version": 3
   },
   "file_extension": ".py",
   "mimetype": "text/x-python",
   "name": "python",
   "nbconvert_exporter": "python",
   "pygments_lexer": "ipython3",
   "version": "3.11.2"
  }
 },
 "nbformat": 4,
 "nbformat_minor": 5
}
