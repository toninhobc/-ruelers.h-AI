{
 "cells": [
  {
   "cell_type": "code",
   "execution_count": 2,
   "id": "d7adcf1d",
   "metadata": {},
   "outputs": [],
   "source": [
    "# Montar/treinar o modelo e verificar a precisão"
   ]
  },
  {
   "cell_type": "code",
   "execution_count": 4,
   "id": "53f50d7a",
   "metadata": {},
   "outputs": [],
   "source": [
    "import tensorflow as tf\n",
    "import keras\n",
    "import pandas as pd\n",
    "import numpy as np\n",
    "from sklearn.model_selection import train_test_split\n",
    "from sklearn.preprocessing import MinMaxScaler\n",
    "from category_encoders import OneHotEncoder\n"
   ]
  },
  {
   "cell_type": "code",
   "execution_count": null,
   "id": "f3ac5ebf",
   "metadata": {},
   "outputs": [],
   "source": [
    "df = pd.read_csv(\"/\")\n",
    "df.head()"
   ]
  },
  {
   "cell_type": "code",
   "execution_count": 7,
   "id": "6ead0b8d",
   "metadata": {},
   "outputs": [
    {
     "ename": "NameError",
     "evalue": "name 'df' is not defined",
     "output_type": "error",
     "traceback": [
      "\u001b[31m---------------------------------------------------------------------------\u001b[39m",
      "\u001b[31mNameError\u001b[39m                                 Traceback (most recent call last)",
      "\u001b[36mCell\u001b[39m\u001b[36m \u001b[39m\u001b[32mIn[7]\u001b[39m\u001b[32m, line 1\u001b[39m\n\u001b[32m----> \u001b[39m\u001b[32m1\u001b[39m \u001b[43mdf\u001b[49m[\u001b[33m\"\u001b[39m\u001b[33mperigo\u001b[39m\u001b[33m\"\u001b[39m] = [\n\u001b[32m      2\u001b[39m     \u001b[32m0.5\u001b[39m,\n\u001b[32m      3\u001b[39m     \u001b[32m0.5\u001b[39m,\n\u001b[32m      4\u001b[39m     \u001b[32m1\u001b[39m,\n\u001b[32m      5\u001b[39m     \u001b[32m0.2\u001b[39m,\n\u001b[32m      6\u001b[39m     \u001b[32m0.1\u001b[39m\n\u001b[32m      7\u001b[39m ]\n",
      "\u001b[31mNameError\u001b[39m: name 'df' is not defined"
     ]
    }
   ],
   "source": [
    "df[\"perigo\"] = [\n",
    "    0.5,\n",
    "    0.5,\n",
    "    1,\n",
    "    0.2,\n",
    "    0.1\n",
    "]"
   ]
  },
  {
   "cell_type": "code",
   "execution_count": null,
   "id": "e8a2808d",
   "metadata": {},
   "outputs": [],
   "source": [
    "## Separação da variável dependente\n",
    "\n",
    "X = df.drop(columns=\"perigo\")\n",
    "y = df[\"perigo\"]"
   ]
  },
  {
   "cell_type": "code",
   "execution_count": null,
   "id": "664a4adc",
   "metadata": {},
   "outputs": [],
   "source": [
    "# Isso aqui divide o treino do teste com uma proporção de 0.5 \n",
    "## Se esse valor ficar muito grande, a eficiência pode ser reduzida porque o modelo começa a decorar os dados\n",
    "\n",
    "X_train, X_test, y_train, y_test = train_test_split(X, y, test_size=0.5, random_state=42)"
   ]
  },
  {
   "cell_type": "code",
   "execution_count": 5,
   "id": "5c36211c",
   "metadata": {},
   "outputs": [],
   "source": [
    "cat_bairros_cols = [\"RA XX - ÁGUAS CLARAS\",\"ARNIQUEIRA\",\"RA I - BRASILIA\",\"RA IV - BRAZLÂNDIA\",\"RA XIX - CANDANGOLÂNDIA\",\n",
    "            \"RA IX - CEILÂNDIA\",\"RA XI - CRUZEIRO\",\"RA XXV - SCIA/ESTRUTURAL\",\"RA XXXI - FERCAL\",\n",
    "            \"RA II - GAMA\",\"RA X - GUARÁ\",\"RA XXVIII - ITAPOÃ\",\"RA XXVII - JARDIM BOTÂNICO\",\n",
    "            \"RA XVIII - LAGO NORTE\",\"RA XVI - LAGO SUL\",\"RA VIII - NÚCLEO BANDEIRANTE\",\"RA VII - PARANOÁ\",\n",
    "            \"RA XXIV - PARK WAY\",\"RA VI - PLANALTINA\",\"RA XV - RECANTO DAS EMAS\",\"RA XVII - RIACHO FUNDO\",\n",
    "            \"RA XXI - RIACHO FUNDO II\",\"RA XII - SAMAMBAIA\",\"RA XIII - SANTA MARIA\",\"RA XIV - SÃO SEBASTIÃO\",\n",
    "            \"RA XXIX - S.I.A.\",\"RA V - SOBRADINHO\",\"RA XXVI - SOBRADINHO II\",\"SOL NASCENTE\",\"RA XXII - SUDOESTE\",\n",
    "            \"RA III - TAGUATINGA\",\"RA XXIII - VARJÃO\",\"RA XXX - VICENTE PIRES\"]"
   ]
  },
  {
   "cell_type": "code",
   "execution_count": 6,
   "id": "d6121a7d",
   "metadata": {},
   "outputs": [],
   "source": [
    "cat_crimes_cols = [\"HOMICÍDIO\",\"LATROCÍNIO\",\"LESÃO CORPORAL SEG. DE MORTE\",\"ROUBO A TRANSEUNTE\",\n",
    "                   \"ROUBO DE VEÍCULO\",\"ROUBO EM COLETIVO\",\"ROUBO EM COMÉRCIO *\",\"ROUBO EM RESIDÊNCIA\",\n",
    "                   \"FURTO EM VEÍCULO\",\"TENTATIVA DE HOMICÍDIO\",\"TENTATIVA DE LATROCÍNIO\",\"ESTUPRO\",\n",
    "                   \"ESTUPRO DE VULNERÁVEL\",\"FURTO A TRANSEUNTE\",\"TRÁFICO DE DROGAS\",\n",
    "                   \"USO E PORTE DE DROGAS\",\"POSSE/PORTE DE ARMA\",\n",
    "                   \"LOCALIZAÇÃO DE VEICULO FURTADO OU ROUBADO\"]"
   ]
  },
  {
   "cell_type": "code",
   "execution_count": null,
   "id": "38cd0c98",
   "metadata": {},
   "outputs": [],
   "source": [
    "# Transformar as variáveis em números para ser compatível com o tensorflow\n",
    "\n",
    "cat_encoder = OneHotEncoder(cols=cat_crimes_cols+cat_bairros_cols, drop_invariant=True, handle_missing=0)\n",
    "X_train = cat_encoder.fit_transform(X_train)\n",
    "X_test = cat_encoder.transform(X_test)\n",
    "\n",
    "# Rodar isto opcionalmente caso tiver strings nas variáveis do tf"
   ]
  },
  {
   "cell_type": "code",
   "execution_count": null,
   "id": "557d21f3",
   "metadata": {},
   "outputs": [],
   "source": [
    "X_test.head()"
   ]
  },
  {
   "cell_type": "code",
   "execution_count": null,
   "id": "395b6134",
   "metadata": {},
   "outputs": [],
   "source": [
    "# Imputação dos dados\n",
    "## Isso aqui transforma os valores entre 0 e 1 \n",
    "\n",
    "scaler = MinMaxScaler()\n",
    "X_train_scaled = scaler.fit_transform(X_train)\n",
    "X_test_scaled = scaler.transform(X_test)"
   ]
  },
  {
   "cell_type": "code",
   "execution_count": null,
   "id": "663d19fc",
   "metadata": {},
   "outputs": [],
   "source": [
    "tf.random.set_seed(2)\n",
    "# Entrada = Bairro, Trimestre (Média), Tipo de crime\n",
    "#\n",
    "\n",
    "# Construção das camadas\n",
    "inp = keras.layers.Input((X_train_scaled.shape[1], ))\n",
    "hid = keras.layers.Dense(10, activation=\"relu\")(inp)\n",
    "\n",
    "drop = keras.layers.Dropout(0.5)(hid)\n",
    "\n",
    "out_soft = keras.layers.Dense(len(y_train), activation=\"softmax\")(drop)\n",
    "out_sig = keras.layers.Dense(1, activation=\"sigmoid\")(drop)\n",
    "\n",
    "\n",
    "model_sig = keras.Model(inp, out_sig)\n",
    "model_soft = keras.Model(inp, out_soft)\n",
    "\n",
    "model_sig.compile(optimizer='adam',\n",
    "              loss='msle',\n",
    "              metrics=['accuracy'])\n",
    "model_soft.compile(optimizer='adam',\n",
    "              loss='msle',\n",
    "              metrics=['accuracy'])\n",
    "\n",
    "model_sig.summary()\n",
    "model_soft.summary()"
   ]
  },
  {
   "cell_type": "code",
   "execution_count": null,
   "id": "8c85a545",
   "metadata": {},
   "outputs": [],
   "source": [
    "es = keras.callbacks.EarlyStopping(\n",
    "    monitor=\"val_loss\", min_delta=0, patience=10, mode=\"min\", restore_best_weights=True,\n",
    ")"
   ]
  },
  {
   "cell_type": "code",
   "execution_count": null,
   "id": "959ff91b",
   "metadata": {},
   "outputs": [],
   "source": [
    "model_soft.fit(X_train_scaled, y_train, validation_data=(X_test_scaled, y_test), epochs=10, shuffle=True, batch_size=32, callbacks=[es])"
   ]
  },
  {
   "cell_type": "code",
   "execution_count": null,
   "id": "f15b6d73",
   "metadata": {},
   "outputs": [],
   "source": [
    "# Testar modelo\n",
    "\n",
    "loss, accuracy = model_soft.evaluate(X_test_scaled, y_test)\n",
    "print(f'Acurácia no conjunto de teste: {accuracy}')"
   ]
  }
 ],
 "metadata": {
  "kernelspec": {
   "display_name": ".venv",
   "language": "python",
   "name": "python3"
  },
  "language_info": {
   "codemirror_mode": {
    "name": "ipython",
    "version": 3
   },
   "file_extension": ".py",
   "mimetype": "text/x-python",
   "name": "python",
   "nbconvert_exporter": "python",
   "pygments_lexer": "ipython3",
   "version": "3.11.2"
  }
 },
 "nbformat": 4,
 "nbformat_minor": 5
}
